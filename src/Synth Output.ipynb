{
 "cells": [
  {
   "cell_type": "markdown",
   "metadata": {
    "deletable": true,
    "editable": true
   },
   "source": [
    "We'll be using the [`RenderMan`](https://github.com/fedden/RenderMan) library to open VST plugins to create synthesized audio clips. After following the instructions to build the library, we need to ensure a few things:\n",
    "\n",
    "- We need to change the python header search path from `/usr/include/python2.7` to  `/anaconda/envs/<conda_env>/lib/python2.7` in the `RenderMan.jucer` file in order to link to the conda version of python\n",
    "- Per the installation instructions, we'll need to rename the built library `mv librenderman.so.dylib librenderman.so`, and move it to this library to use it.\n",
    "- use `otool -L librenderman.so` to validate that we've linke to the correct version of python"
   ]
  },
  {
   "cell_type": "code",
   "execution_count": 1,
   "metadata": {
    "collapsed": true,
    "deletable": true,
    "editable": true
   },
   "outputs": [],
   "source": [
    "import os\n",
    "import librenderman as rm\n",
    "import matplotlib.pyplot as plt\n",
    "import numpy as np\n",
    "import librosa\n",
    "import librosa.display\n",
    "from IPython.core.display import HTML\n",
    "from tqdm import tqdm\n",
    "%matplotlib inline"
   ]
  },
  {
   "cell_type": "code",
   "execution_count": 2,
   "metadata": {
    "collapsed": false,
    "deletable": true,
    "editable": true
   },
   "outputs": [
    {
     "name": "stdout",
     "output_type": "stream",
     "text": [
      "loaded plugin succesfully\n"
     ]
    }
   ],
   "source": [
    "sampleRate = 44100\n",
    "bufferSize = 512\n",
    "fftSize = 512\n",
    "\n",
    "engine = rm.RenderEngine(sampleRate, bufferSize, fftSize)\n",
    "sylenth_path = '/Library/Audio/Plug-Ins/VST/Sylenth1.vst'\n",
    "\n",
    "def load_plugin():\n",
    "    if engine.load_plugin(sylenth_path):\n",
    "        print('loaded plugin succesfully')\n",
    "        \n",
    "load_plugin()"
   ]
  },
  {
   "cell_type": "code",
   "execution_count": 3,
   "metadata": {
    "collapsed": true,
    "deletable": true,
    "editable": true
   },
   "outputs": [],
   "source": [
    "# Settings to play a note and extract data from the synth.\n",
    "midiNote = 48\n",
    "midiVelocity = 127\n",
    "noteLength = 0.5\n",
    "renderLength = 5.0"
   ]
  },
  {
   "cell_type": "code",
   "execution_count": 4,
   "metadata": {
    "collapsed": true,
    "deletable": true,
    "editable": true
   },
   "outputs": [],
   "source": [
    "def load_preset(preset_path):\n",
    "    if not engine.load_preset(preset_path):\n",
    "        print('error loading preset...')"
   ]
  },
  {
   "cell_type": "code",
   "execution_count": 56,
   "metadata": {
    "collapsed": false,
    "deletable": true,
    "editable": true
   },
   "outputs": [],
   "source": [
    "characteristics = {\n",
    "    'envelope': {},\n",
    "    'reverb': {},\n",
    "    'delay': {},\n",
    "    'space': {},\n",
    "    'filter': {},\n",
    "    'distortion': {},\n",
    "}\n",
    "\n",
    "# Amplitude Envelope characteristics\n",
    "characteristics['envelope']['base'] = [\n",
    "#     [0, 0.00], # AmpEnv A Attack\n",
    "#     [1, 0.50], # AmpEnv A Decay\n",
    "#     [2, 0.05], # AmpEnv A Release\n",
    "#     [3, 0.50], # AmpEnv A Sustain    \n",
    "#     [4, 0.00], # AmpEnv B Attack\n",
    "#     [5, 0.50], # AmpEnv A Decay\n",
    "#     [6, 0.05], # AmpEnv A Release\n",
    "#     [7, 0.50], # AmpEnv A Sustain    \n",
    "]\n",
    "\n",
    "characteristics['envelope']['med_attack'] = [\n",
    "    [0, 0.50], # AmpEnv A Attack   \n",
    "    [4, 0.50], # AmpEnv B Attack\n",
    "]\n",
    "\n",
    "characteristics['envelope']['no_attack'] = [\n",
    "    [0, 0.00], # AmpEnv A Release\n",
    "    [4, 0.00], # AmpEnv B Release\n",
    "]\n",
    "\n",
    "characteristics['envelope']['med_release'] = [\n",
    "    [2, 0.50], # AmpEnv A Release\n",
    "    [6, 0.50], # AmpEnv B Release\n",
    "]\n",
    "\n",
    "characteristics['envelope']['no_release'] = [\n",
    "    [2, 0.05], # AmpEnv A Release\n",
    "    [6, 0.05], # AmpEnv B Release\n",
    "]\n",
    "\n",
    "# Space characteristics\n",
    "characteristics['space']['no_reverb_no_delay'] = [\n",
    "    [220, 0.00], # xSW DelayOnOff\n",
    "    [224, 0.00], # xSW ReverbOnOff\n",
    "]\n",
    "\n",
    "# Reverb characteristics\n",
    "characteristics['reverb']['base'] = [\n",
    "    [224, 1.00], # xSW ReverbOnOff\n",
    "    [142, 0.25], # Reverb Damp\n",
    "    [143, 0.50], # Reverb Dry/Wet\n",
    "    [144, 0.50], # Reverb Predelay\n",
    "    [145, 0.50], # Reverb Size\n",
    "    [146, 0.50], # Reverb Width    \n",
    "]\n",
    "\n",
    "characteristics['reverb']['big_reverb'] = [\n",
    "    [145, 0.75], # Reverb Size\n",
    "    [146, 0.75], # Reverb Width\n",
    "]\n",
    "characteristics['reverb']['small_reverb'] = [\n",
    "    [145, 0.40], # Reverb Size\n",
    "    [146, 0.40], # Reverb Width\n",
    "]\n",
    "characteristics['reverb']['no_reverb'] = [\n",
    "    [224, 0.00], # xSW ReverbOnOff\n",
    "]\n",
    "\n",
    "\n",
    "# Delay characteristics\n",
    "characteristics['delay']['base'] = [\n",
    "    [220, 1.00], # xSW DelayOnOff\n",
    "    [25, 0.5],   # Delay Dry/Wet\n",
    "    [26, 0.5],   # Delay Feedback\n",
    "    [27, 0.0],   # Delay HighCut\n",
    "    [28, 0.0],   # Delay LowCut\n",
    "    [29, 0.0],   # Delay PingPong\n",
    "    [30, 0.0],   # Delay Smear\n",
    "    [31, 0.5],   # Delay Spread\n",
    "    [32, 0.8],   # Delay Time Left\n",
    "    [33, 0.8],   # Delay Time Left\n",
    "    [34, 0.5],   # Delay Time Left\n",
    "]\n",
    "\n",
    "characteristics['delay']['big_delay'] = [\n",
    "    [25, 0.5],   # Delay Dry/Wet\n",
    "    [26, 0.5],   # Delay Feedback\n",
    "]\n",
    "characteristics['delay']['small_delay'] = [\n",
    "    [25, 0.25],  # Delay Dry/Wet\n",
    "    [26, 0.25],  # Delay Feedback\n",
    "]\n",
    "characteristics['delay']['no_delay'] = [\n",
    "    [220, 0.00], # xSW DelayOnOff\n",
    "]\n",
    "\n",
    "# Filter characteristics\n",
    "characteristics['filter']['base'] = [\n",
    "    [54, 0.5],  # FilterCtl Cutoff\n",
    "]\n",
    "\n",
    "characteristics['filter']['low_cutoff'] = [\n",
    "    [54, 0.25],  # FilterCtl Cutoff \n",
    "]\n",
    "\n",
    "characteristics['filter']['lo_mid_cutoff'] = [\n",
    "    [54, 0.375],  # FilterCtl Cutoff\n",
    "]\n",
    "\n",
    "characteristics['filter']['mid_cutoff'] = [\n",
    "    [54, 0.5],  # FilterCtl Cutoff\n",
    "]\n",
    "\n",
    "characteristics['filter']['mid_hi_cutoff'] = [\n",
    "    [54, 0.675],  # FilterCtl Cutoff\n",
    "]\n",
    "\n",
    "characteristics['filter']['hi_cutoff'] = [\n",
    "    [54, 0.75], # FilterCtl Cutoff \n",
    "]\n",
    "\n",
    "# Distortion characteristics\n",
    "characteristics['distortion']['base'] = [\n",
    "    [221, 1.00], # xSW DistOnOff\n",
    "    [35, 0.50],  # Distort Amount\n",
    "    [36, 1.00],  # Distort DryWet\n",
    "    [37, 0.00],  # Distort Type\n",
    "]\n",
    "\n",
    "characteristics['distortion']['on'] = [\n",
    "    [221, 1.00], # xSW DistOnOff\n",
    "]\n",
    "\n",
    "characteristics['distortion']['off'] = [\n",
    "    [221, 0.00], # xSW DistOnOff\n",
    "]"
   ]
  },
  {
   "cell_type": "code",
   "execution_count": 57,
   "metadata": {
    "collapsed": true,
    "deletable": true,
    "editable": true
   },
   "outputs": [],
   "source": [
    "def set_parameters(params):\n",
    "    for [param, value] in params:\n",
    "        engine.set_parameter(param, value)"
   ]
  },
  {
   "cell_type": "code",
   "execution_count": 58,
   "metadata": {
    "collapsed": false,
    "deletable": true,
    "editable": true
   },
   "outputs": [],
   "source": [
    "entries = []\n",
    "def isvalid(filename):\n",
    "    return os.path.isfile(filename) and '.fxp' in filename\n",
    "\n",
    "def makePresetEntry(dirpath, patch_name):\n",
    "    path_name = os.path.join(dirpath, patch_name)\n",
    "    patch_name = patch_name.replace(\".fxp\", \"\")\n",
    "    patch_name = patch_name.replace(\" \", \"_\")\n",
    "    group = dirpath.replace(\"sylenth_patches/\", \"\")\n",
    "    entry =(path_name, patch_name, group)\n",
    "    return entry\n",
    "    \n",
    "for (dirpath, dirnames, filenames) in os.walk('sylenth_patches'):\n",
    "    for f in filenames:\n",
    "        if not isvalid(os.path.join(dirpath, f)): continue\n",
    "        entry = makePresetEntry(dirpath, f)\n",
    "        entries.append(entry)"
   ]
  },
  {
   "cell_type": "code",
   "execution_count": 79,
   "metadata": {
    "collapsed": true,
    "deletable": true,
    "editable": true
   },
   "outputs": [],
   "source": [
    "def render_audio(filename):\n",
    "    def render(output_filename):\n",
    "        engine.render_patch(midiNote, midiVelocity, noteLength, renderLength, False)\n",
    "        audio = engine.get_audio_frames()\n",
    "        audio = np.array(audio, np.float)\n",
    "\n",
    "        librosa.output.write_wav(output_filename, audio, sampleRate)\n",
    "\n",
    "        mp3_output_filename = output_filename.replace(\".wav\", \".mp3\")\n",
    "        os.system(\"ffmpeg -i \" + output_filename + \" -vn -ar 44100 -ac 1 -ab 64k -f mp3 \" + mp3_output_filename)\n",
    "        os.remove(output_filename)\n",
    "    # There's an error in the way that renderman clears audioBuffers, so we need to write twice to ensure\n",
    "    # that the correct audio buffer is actually written... fortunately the processing is fast enough\n",
    "    render(filename.replace('.wav', '_dummy.wav'))\n",
    "    render(filename)\n",
    "    os.remove(filename.replace('.wav', '_dummy.mp3'))"
   ]
  },
  {
   "cell_type": "code",
   "execution_count": 90,
   "metadata": {
    "collapsed": false,
    "deletable": true,
    "editable": true
   },
   "outputs": [
    {
     "name": "stderr",
     "output_type": "stream",
     "text": [
      "100%|██████████| 83/83 [07:51<00:00,  5.68s/it]\n"
     ]
    }
   ],
   "source": [
    "def make_output_filename(patch_name, modifier, group):\n",
    "    patch_name = patch_name.replace('&', 'and')\n",
    "    patch_name = patch_name.replace(\"'\", '')    \n",
    "    directory = 'output/' + group + \"/\" + patch_name\n",
    "    if not os.path.exists(directory):\n",
    "        os.makedirs(directory)\n",
    "    output_filename = directory + \"/\" + patch_name + modifier + '.wav'\n",
    "    return output_filename\n",
    "\n",
    "def render_preset(path, patch, group):\n",
    "    # render preset basic\n",
    "    load_preset(path)\n",
    "    output_filename = make_output_filename(patch, \"__base\", group)\n",
    "    \n",
    "    render_audio(output_filename)\n",
    "    \n",
    "    # render preset variants\n",
    "    for c in characteristics:\n",
    "        for v in characteristics[c]:\n",
    "            if v == \"base\": continue\n",
    "            load_preset(path)\n",
    "            modifier = '__' + c + '_' + v\n",
    "            output_filename = make_output_filename(patch, modifier, group)\n",
    "            \n",
    "            if characteristics[c].get(\"base\"):\n",
    "                base = characteristics[c][\"base\"]\n",
    "                set_parameters(base)\n",
    "                            \n",
    "            variant = characteristics[c][v]\n",
    "            set_parameters(variant)            \n",
    "            render_audio(output_filename)\n",
    "\n",
    "for (path, patch, group) in tqdm(entries[285:]):\n",
    "    render_preset(path, patch, group)"
   ]
  }
 ],
 "metadata": {
  "kernelspec": {
   "display_name": "Python [conda env:sample_embeddings]",
   "language": "python",
   "name": "conda-env-sample_embeddings-py"
  },
  "language_info": {
   "codemirror_mode": {
    "name": "ipython",
    "version": 2
   },
   "file_extension": ".py",
   "mimetype": "text/x-python",
   "name": "python",
   "nbconvert_exporter": "python",
   "pygments_lexer": "ipython2",
   "version": "2.7.14"
  }
 },
 "nbformat": 4,
 "nbformat_minor": 2
}
