{
 "cells": [
  {
   "cell_type": "code",
   "execution_count": 2,
   "metadata": {},
   "outputs": [],
   "source": [
    "import os\n",
    "import librenderman as rm\n",
    "import numpy as np\n",
    "import librosa\n",
    "import librosa.display"
   ]
  },
  {
   "cell_type": "code",
   "execution_count": 3,
   "metadata": {},
   "outputs": [],
   "source": [
    "sampleRate = 44100\n",
    "bufferSize = 512\n",
    "renderLength = 10.0\n",
    "\n",
    "engine = rm.RenderEngine(sampleRate, bufferSize)\n",
    "sylenth_path = '/Library/Audio/Plug-Ins/VST/Sylenth1.vst'"
   ]
  },
  {
   "cell_type": "code",
   "execution_count": 4,
   "metadata": {},
   "outputs": [],
   "source": [
    "def load_plugin():\n",
    "    if engine.load_plugin(sylenth_path):\n",
    "        print('loaded plugin succesfully')\n",
    "\n",
    "        \n",
    "def load_preset(preset_path):\n",
    "    if not engine.load_preset(preset_path):\n",
    "        print('error loading preset...')\n",
    "\n",
    "        \n",
    "def load_midi(midi_path):\n",
    "    if not engine.load_midi(midi_path):\n",
    "        print('error loading midi...')        "
   ]
  },
  {
   "cell_type": "code",
   "execution_count": 5,
   "metadata": {},
   "outputs": [],
   "source": [
    "entries = []\n",
    "def isvalid(filename):\n",
    "    return os.path.isfile(filename) and '.fxp' in filename\n",
    "\n",
    "def makePresetEntry(dirpath, patch_name):\n",
    "    path_name = os.path.join(dirpath, patch_name)\n",
    "    patch_name = patch_name.replace(\".fxp\", \"\")\n",
    "    patch_name = patch_name.replace(\" \", \"_\")\n",
    "    group = dirpath.replace(\"sylenth_patches/\", \"\")\n",
    "    entry =(path_name, patch_name, group)\n",
    "    return entry\n",
    "\n",
    "for (dirpath, dirnames, filenames) in os.walk('sylenth_patches'):\n",
    "    for f in filenames:\n",
    "        if not isvalid(os.path.join(dirpath, f)): continue\n",
    "        entry = makePresetEntry(dirpath, f)\n",
    "        entries.append(entry)"
   ]
  },
  {
   "cell_type": "code",
   "execution_count": 6,
   "metadata": {},
   "outputs": [],
   "source": [
    "def render_audio(filename):\n",
    "    def render(output_filename):\n",
    "        engine.render_midi(renderLength)\n",
    "        audio = engine.get_audio_frames()\n",
    "        audio = np.array(audio, np.float)\n",
    "\n",
    "        librosa.output.write_wav(output_filename, audio, sampleRate)\n",
    "    render(filename)"
   ]
  },
  {
   "cell_type": "code",
   "execution_count": 7,
   "metadata": {},
   "outputs": [],
   "source": [
    "def make_output_filename(patch_name, modifier, group):\n",
    "    patch_name = patch_name.replace('&', 'and')\n",
    "    patch_name = patch_name.replace(\"'\", '')\n",
    "    directory = 'output/' + group + \"/\" + patch_name\n",
    "    if not os.path.exists(directory):\n",
    "        os.makedirs(directory)\n",
    "    output_filename = directory + \"/\" + patch_name + modifier + '.wav'\n",
    "    return output_filename\n",
    "\n",
    "def render_preset(path, patch, group):\n",
    "    # render preset basic\n",
    "    load_preset(path)\n",
    "    output_filename = make_output_filename(patch, \"__base\", group)\n",
    "\n",
    "    render_audio(output_filename)"
   ]
  },
  {
   "cell_type": "code",
   "execution_count": 8,
   "metadata": {},
   "outputs": [
    {
     "name": "stdout",
     "output_type": "stream",
     "text": [
      "loaded plugin succesfully\n"
     ]
    }
   ],
   "source": [
    "load_plugin()\n",
    "load_midi(\"test.mid\")\n",
    "(path, patch, group) = entries[0]\n",
    "render_preset(path, patch, group)"
   ]
  },
  {
   "cell_type": "code",
   "execution_count": null,
   "metadata": {},
   "outputs": [],
   "source": []
  }
 ],
 "metadata": {
  "kernelspec": {
   "display_name": "Python [conda env:sample_embeddings]",
   "language": "python",
   "name": "conda-env-sample_embeddings-py"
  },
  "language_info": {
   "codemirror_mode": {
    "name": "ipython",
    "version": 2
   },
   "file_extension": ".py",
   "mimetype": "text/x-python",
   "name": "python",
   "nbconvert_exporter": "python",
   "pygments_lexer": "ipython2",
   "version": "2.7.14"
  }
 },
 "nbformat": 4,
 "nbformat_minor": 2
}
