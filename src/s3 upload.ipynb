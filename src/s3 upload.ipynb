{
 "cells": [
  {
   "cell_type": "code",
   "execution_count": 90,
   "metadata": {
    "collapsed": false,
    "deletable": true,
    "editable": true
   },
   "outputs": [],
   "source": [
    "import os\n",
    "import boto\n",
    "from tqdm import tqdm\n",
    "from boto.s3.key import Key\n",
    "\n",
    "endpoint = 's3-us-west-2.amazonaws.com'\n",
    "bucket_name = 'synth-embeddings-samples'\n",
    "key = '...'\n",
    "secret = '...'\n",
    "conn = boto.connect_s3(key, secret) \n",
    "bucket = conn.get_bucket(bucket_name)"
   ]
  },
  {
   "cell_type": "code",
   "execution_count": 94,
   "metadata": {
    "collapsed": false,
    "deletable": true,
    "editable": true
   },
   "outputs": [
    {
     "name": "stderr",
     "output_type": "stream",
     "text": [
      "100%|██████████| 6992/6992 [56:47<00:00,  2.05it/s]\n"
     ]
    }
   ],
   "source": [
    "files = []\n",
    "\n",
    "for (dirpath, dirnames, filenames) in os.walk('output'):\n",
    "    for f in filenames:\n",
    "        if not 'mp3' in f: continue\n",
    "        files.append((dirpath, f))\n",
    "\n",
    "for (dirpath, filename) in tqdm(files):\n",
    "    file_path = os.path.join(dirpath, filename)\n",
    "    upload_path = file_path.replace('output/', '')\n",
    "    \n",
    "    k = Key(bucket)\n",
    "    k.key = upload_path\n",
    "    result = k.set_contents_from_file(open(file_path))"
   ]
  },
  {
   "cell_type": "code",
   "execution_count": null,
   "metadata": {
    "collapsed": true
   },
   "outputs": [],
   "source": []
  }
 ],
 "metadata": {
  "kernelspec": {
   "display_name": "Python [conda env:sample_embeddings]",
   "language": "python",
   "name": "conda-env-sample_embeddings-py"
  },
  "language_info": {
   "codemirror_mode": {
    "name": "ipython",
    "version": 2
   },
   "file_extension": ".py",
   "mimetype": "text/x-python",
   "name": "python",
   "nbconvert_exporter": "python",
   "pygments_lexer": "ipython2",
   "version": "2.7.14"
  }
 },
 "nbformat": 4,
 "nbformat_minor": 2
}
